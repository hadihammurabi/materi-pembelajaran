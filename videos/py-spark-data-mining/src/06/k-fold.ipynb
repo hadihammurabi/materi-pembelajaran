{
 "cells": [
  {
   "cell_type": "markdown",
   "id": "85ec0748-0c79-426a-a287-f238a4fa4c47",
   "metadata": {},
   "source": [
    "# K-Fold\n",
    "\n",
    "## Pengertian\n",
    "\n",
    "K-Fold adalah prosedur _cross validation_ yang digunakan untuk mengevaluasi suatu model _machine learning_ terhadap dataset terbatas. Dengan menggunakan K-Fold, dataset yang sudah kita miliki dan terbagai menjadi 3 kategori, bisa ditentukan akurasinya. Suatu dataset biasanya dikelompokkan menjadi:\n",
    "\n",
    "1. Dataset untuk pelatihan (_training_)\n",
    "2. Dataset untuk pengujian (_testing_)\n",
    "3. Dataset untuk validasi\n",
    "\n",
    "K-Fold ini dilaksanakan terhadap dataset tersebut untuk mengetahui akurasi dari model yang kita buat. Semakin tinggi akurasi, semakin baik model. \n",
    "\n",
    "Contoh berikut ini adalah contoh menggunakan dataset yang sudah ada pada **scikit-learn**."
   ]
  },
  {
   "cell_type": "code",
   "execution_count": 4,
   "id": "082416b7-8323-4f61-a2fc-00c6d4b38585",
   "metadata": {},
   "outputs": [
    {
     "name": "stdout",
     "output_type": "stream",
     "text": [
      "Akurasi: 0.850 (0.128)\n"
     ]
    }
   ],
   "source": [
    "from numpy import mean\n",
    "from numpy import std\n",
    "from sklearn.datasets import make_classification\n",
    "from sklearn.model_selection import KFold\n",
    "from sklearn.model_selection import cross_val_score\n",
    "from sklearn.linear_model import LogisticRegression\n",
    "\n",
    "# Datasets\n",
    "X, y = make_classification(n_samples=100, n_features=20, n_informative=15, n_redundant=5, random_state=1)\n",
    "\n",
    "# Persiapan untuk K-Fold cv (cross validation)\n",
    "cv = KFold(n_splits=10, random_state=1, shuffle=True)\n",
    "\n",
    "# Membuat model\n",
    "model = LogisticRegression()\n",
    "\n",
    "# Evaluasi model\n",
    "scores = cross_val_score(model, X, y, scoring='accuracy', cv=cv, n_jobs=-1)\n",
    "\n",
    "# Laporan - Akurasi\n",
    "print('Akurasi: %.3f (%.3f)' % (mean(scores), std(scores)))"
   ]
  },
  {
   "cell_type": "code",
   "execution_count": null,
   "id": "03e3bfeb-ad29-4d6c-8536-5705b67e3e3f",
   "metadata": {},
   "outputs": [],
   "source": []
  }
 ],
 "metadata": {
  "kernelspec": {
   "display_name": "Python 3",
   "language": "python",
   "name": "python3"
  },
  "language_info": {
   "codemirror_mode": {
    "name": "ipython",
    "version": 3
   },
   "file_extension": ".py",
   "mimetype": "text/x-python",
   "name": "python",
   "nbconvert_exporter": "python",
   "pygments_lexer": "ipython3",
   "version": "3.9.5"
  }
 },
 "nbformat": 4,
 "nbformat_minor": 5
}
