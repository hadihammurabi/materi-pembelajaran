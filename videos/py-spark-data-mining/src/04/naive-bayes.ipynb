{
 "cells": [
  {
   "cell_type": "markdown",
   "id": "c2edd93a",
   "metadata": {},
   "source": [
    "# Naive  Bayes\n",
    " \n",
    "## Pengertian\n",
    "\n",
    "**Naive Bayes** merupakan algoritma statistika yang digunakan untuk melakukan klasifikasi berdasarkan pada *teorema Bayes*. Teorema Bayes dibuat oleh **Thomas Bayes**.\n",
    "\n",
    "## Contoh Kasus\n",
    "\n",
    "Beberapa contoh kasus yang bisa didekati penyelesaiannya menggunakan Naive Bayes:\n",
    "1. Penentuan klasifikasi konsumen kredit (kredibel, tidak kredibel)\n",
    "2. Penentuan klasifikasi e-mail (spam, bukan spam)"
   ]
  },
  {
   "cell_type": "markdown",
   "id": "25a2f1c6",
   "metadata": {},
   "source": [
    "## Paket Python yang Digunakan"
   ]
  },
  {
   "cell_type": "code",
   "execution_count": 26,
   "id": "9e9d8b50",
   "metadata": {},
   "outputs": [],
   "source": [
    "import pandas as pd\n",
    "from sklearn import preprocessing\n",
    "from sklearn.naive_bayes import GaussianNB\n",
    "import numpy as np"
   ]
  },
  {
   "cell_type": "markdown",
   "id": "16c3a8ee",
   "metadata": {},
   "source": [
    "## Menyiapkan Data"
   ]
  },
  {
   "cell_type": "code",
   "execution_count": 7,
   "id": "5bbce2e4",
   "metadata": {},
   "outputs": [
    {
     "data": {
      "text/html": [
       "<div>\n",
       "<style scoped>\n",
       "    .dataframe tbody tr th:only-of-type {\n",
       "        vertical-align: middle;\n",
       "    }\n",
       "\n",
       "    .dataframe tbody tr th {\n",
       "        vertical-align: top;\n",
       "    }\n",
       "\n",
       "    .dataframe thead th {\n",
       "        text-align: right;\n",
       "    }\n",
       "</style>\n",
       "<table border=\"1\" class=\"dataframe\">\n",
       "  <thead>\n",
       "    <tr style=\"text-align: right;\">\n",
       "      <th></th>\n",
       "      <th>Usia</th>\n",
       "      <th>Pendapatan</th>\n",
       "      <th>Mahasiswa</th>\n",
       "      <th>Rating Kredit</th>\n",
       "      <th>Beli</th>\n",
       "    </tr>\n",
       "  </thead>\n",
       "  <tbody>\n",
       "    <tr>\n",
       "      <th>0</th>\n",
       "      <td>Muda</td>\n",
       "      <td>Tinggi</td>\n",
       "      <td>Tidak</td>\n",
       "      <td>Cukup</td>\n",
       "      <td>Tidak</td>\n",
       "    </tr>\n",
       "    <tr>\n",
       "      <th>1</th>\n",
       "      <td>Muda</td>\n",
       "      <td>Tinggi</td>\n",
       "      <td>Tidak</td>\n",
       "      <td>Sangat Bagus</td>\n",
       "      <td>Tidak</td>\n",
       "    </tr>\n",
       "    <tr>\n",
       "      <th>2</th>\n",
       "      <td>Dewasa</td>\n",
       "      <td>Tinggi</td>\n",
       "      <td>Tidak</td>\n",
       "      <td>Cukup</td>\n",
       "      <td>Ya</td>\n",
       "    </tr>\n",
       "    <tr>\n",
       "      <th>3</th>\n",
       "      <td>Senior</td>\n",
       "      <td>Menengah</td>\n",
       "      <td>Tidak</td>\n",
       "      <td>Cukup</td>\n",
       "      <td>Ya</td>\n",
       "    </tr>\n",
       "    <tr>\n",
       "      <th>4</th>\n",
       "      <td>Senior</td>\n",
       "      <td>Rendah</td>\n",
       "      <td>Ya</td>\n",
       "      <td>Cukup</td>\n",
       "      <td>Ya</td>\n",
       "    </tr>\n",
       "    <tr>\n",
       "      <th>5</th>\n",
       "      <td>Senior</td>\n",
       "      <td>Rendah</td>\n",
       "      <td>Ya</td>\n",
       "      <td>Sangat Bagus</td>\n",
       "      <td>Tidak</td>\n",
       "    </tr>\n",
       "    <tr>\n",
       "      <th>6</th>\n",
       "      <td>Dewasa</td>\n",
       "      <td>Rendah</td>\n",
       "      <td>Ya</td>\n",
       "      <td>Sangat Bagus</td>\n",
       "      <td>Ya</td>\n",
       "    </tr>\n",
       "    <tr>\n",
       "      <th>7</th>\n",
       "      <td>Muda</td>\n",
       "      <td>Menengah</td>\n",
       "      <td>Tidak</td>\n",
       "      <td>Cukup</td>\n",
       "      <td>Tidak</td>\n",
       "    </tr>\n",
       "    <tr>\n",
       "      <th>8</th>\n",
       "      <td>Muda</td>\n",
       "      <td>Rendah</td>\n",
       "      <td>Ya</td>\n",
       "      <td>Cukup</td>\n",
       "      <td>Ya</td>\n",
       "    </tr>\n",
       "    <tr>\n",
       "      <th>9</th>\n",
       "      <td>Senior</td>\n",
       "      <td>Menengah</td>\n",
       "      <td>Ya</td>\n",
       "      <td>Cukup</td>\n",
       "      <td>Ya</td>\n",
       "    </tr>\n",
       "    <tr>\n",
       "      <th>10</th>\n",
       "      <td>Muda</td>\n",
       "      <td>Menengah</td>\n",
       "      <td>Ya</td>\n",
       "      <td>Sangat Bagus</td>\n",
       "      <td>Ya</td>\n",
       "    </tr>\n",
       "    <tr>\n",
       "      <th>11</th>\n",
       "      <td>Dewasa</td>\n",
       "      <td>Menengah</td>\n",
       "      <td>Tidak</td>\n",
       "      <td>Sangat Bagus</td>\n",
       "      <td>Ya</td>\n",
       "    </tr>\n",
       "    <tr>\n",
       "      <th>12</th>\n",
       "      <td>Dewasa</td>\n",
       "      <td>Tinggi</td>\n",
       "      <td>Ya</td>\n",
       "      <td>Cukup</td>\n",
       "      <td>Ya</td>\n",
       "    </tr>\n",
       "    <tr>\n",
       "      <th>13</th>\n",
       "      <td>Senior</td>\n",
       "      <td>Menengah</td>\n",
       "      <td>Tidak</td>\n",
       "      <td>Sangat Bagus</td>\n",
       "      <td>Tidak</td>\n",
       "    </tr>\n",
       "  </tbody>\n",
       "</table>\n",
       "</div>"
      ],
      "text/plain": [
       "      Usia Pendapatan Mahasiswa Rating Kredit   Beli\n",
       "0     Muda     Tinggi     Tidak         Cukup  Tidak\n",
       "1     Muda     Tinggi     Tidak  Sangat Bagus  Tidak\n",
       "2   Dewasa     Tinggi     Tidak         Cukup     Ya\n",
       "3   Senior   Menengah     Tidak         Cukup     Ya\n",
       "4   Senior     Rendah        Ya         Cukup     Ya\n",
       "5   Senior     Rendah        Ya  Sangat Bagus  Tidak\n",
       "6   Dewasa     Rendah        Ya  Sangat Bagus     Ya\n",
       "7     Muda   Menengah     Tidak         Cukup  Tidak\n",
       "8     Muda     Rendah        Ya         Cukup     Ya\n",
       "9   Senior   Menengah        Ya         Cukup     Ya\n",
       "10    Muda   Menengah        Ya  Sangat Bagus     Ya\n",
       "11  Dewasa   Menengah     Tidak  Sangat Bagus     Ya\n",
       "12  Dewasa     Tinggi        Ya         Cukup     Ya\n",
       "13  Senior   Menengah     Tidak  Sangat Bagus  Tidak"
      ]
     },
     "execution_count": 7,
     "metadata": {},
     "output_type": "execute_result"
    }
   ],
   "source": [
    "df = pd.read_csv(\"04-dataset.csv\")\n",
    "df"
   ]
  },
  {
   "cell_type": "code",
   "execution_count": 11,
   "id": "7c03ed74",
   "metadata": {},
   "outputs": [
    {
     "data": {
      "text/plain": [
       "0     Tidak\n",
       "1     Tidak\n",
       "2        Ya\n",
       "3        Ya\n",
       "4        Ya\n",
       "5     Tidak\n",
       "6        Ya\n",
       "7     Tidak\n",
       "8        Ya\n",
       "9        Ya\n",
       "10       Ya\n",
       "11       Ya\n",
       "12       Ya\n",
       "13    Tidak\n",
       "Name: Beli, dtype: object"
      ]
     },
     "execution_count": 11,
     "metadata": {},
     "output_type": "execute_result"
    }
   ],
   "source": [
    "usia = df[\"Usia\"]\n",
    "pendapatan = df[\"Pendapatan\"]\n",
    "mahasiswa = df[\"Mahasiswa\"]\n",
    "rating_kredit = df[\"Rating Kredit\"]\n",
    "beli = df[\"Beli\"]\n",
    "\n",
    "beli"
   ]
  },
  {
   "cell_type": "markdown",
   "id": "6b4d368f",
   "metadata": {},
   "source": [
    "## Membuat Label\n",
    "\n",
    "Setiap data yang non-numerik harus di-*encode* ke numerik. Fasilitas yang digunakan adalah *LabelEncoder* dari scikit-learn. *fit_transform* digunakan untuk keperluan tersebut. Setelah itu *LabelEncoder.classes_* digunakan untuk mengetahui konversi tersebut."
   ]
  },
  {
   "cell_type": "code",
   "execution_count": 59,
   "id": "2dc740c3",
   "metadata": {},
   "outputs": [
    {
     "name": "stdout",
     "output_type": "stream",
     "text": [
      "['Dewasa' 'Muda' 'Senior']\n",
      "['Menengah' 'Rendah' 'Tinggi']\n",
      "['Tidak' 'Ya']\n",
      "['Cukup' 'Sangat Bagus']\n",
      "['Tidak' 'Ya']\n"
     ]
    }
   ],
   "source": [
    "#creating labelEncoder\n",
    "le = preprocessing.LabelEncoder()\n",
    "# Converting string labels into numbers.\n",
    "usia_encoded=le.fit_transform(usia)\n",
    "print(le.classes_)\n",
    "pendapatan_encoded=le.fit_transform(pendapatan)\n",
    "print(le.classes_)\n",
    "mahasiswa_encoded=le.fit_transform(mahasiswa)\n",
    "print(le.classes_)\n",
    "rating_kredit_encoded=le.fit_transform(rating_kredit)\n",
    "print(le.classes_)\n",
    "beli_encoded=le.fit_transform(beli)\n",
    "print(le.classes_)"
   ]
  },
  {
   "cell_type": "markdown",
   "id": "e0fd6737",
   "metadata": {},
   "source": [
    "## Data Encoded\n",
    "\n",
    "Data yang sudah di-*encode* digabungkan dan diubah menjadi array 2D."
   ]
  },
  {
   "cell_type": "code",
   "execution_count": 79,
   "id": "1f94b419",
   "metadata": {},
   "outputs": [
    {
     "data": {
      "text/plain": [
       "array([[1, 2, 0, 0],\n",
       "       [1, 2, 0, 1],\n",
       "       [0, 2, 0, 0],\n",
       "       [2, 0, 0, 0],\n",
       "       [2, 1, 1, 0],\n",
       "       [2, 1, 1, 1],\n",
       "       [0, 1, 1, 1],\n",
       "       [1, 0, 0, 0],\n",
       "       [1, 1, 1, 0],\n",
       "       [2, 0, 1, 0],\n",
       "       [1, 0, 1, 1],\n",
       "       [0, 0, 0, 1],\n",
       "       [0, 2, 1, 0],\n",
       "       [2, 0, 0, 1]])"
      ]
     },
     "execution_count": 79,
     "metadata": {},
     "output_type": "execute_result"
    }
   ],
   "source": [
    "f = np.dstack((usia_encoded, pendapatan_encoded, mahasiswa_encoded, rating_kredit_encoded))\n",
    "\n",
    "features = np.reshape(f, (14,-1))\n",
    "features"
   ]
  },
  {
   "cell_type": "markdown",
   "id": "3b12563c",
   "metadata": {},
   "source": [
    "## Membuat Model"
   ]
  },
  {
   "cell_type": "code",
   "execution_count": 80,
   "id": "a5ac2bb4",
   "metadata": {},
   "outputs": [
    {
     "data": {
      "text/plain": [
       "GaussianNB()"
      ]
     },
     "execution_count": 80,
     "metadata": {},
     "output_type": "execute_result"
    }
   ],
   "source": [
    "model = GaussianNB()\n",
    "model.fit(features,beli_encoded)"
   ]
  },
  {
   "cell_type": "markdown",
   "id": "9999ace4",
   "metadata": {},
   "source": [
    "## Prediksi "
   ]
  },
  {
   "cell_type": "code",
   "execution_count": 81,
   "id": "406b6626",
   "metadata": {},
   "outputs": [
    {
     "name": "stdout",
     "output_type": "stream",
     "text": [
      "Hasil prediksi:  [1]\n"
     ]
    }
   ],
   "source": [
    "# Prediksi\n",
    "# \n",
    "# Usia => ['Dewasa' 'Muda' 'Senior']\n",
    "# Pendapatan => ['Menengah' 'Rendah' 'Tinggi']\n",
    "# Mahasiswa? => ['Tidak' 'Ya']\n",
    "# Rating Kredit => ['Cukup' 'Sangat Bagus']\n",
    "# Beli => ['Tidak' 'Ya']\n",
    "#\n",
    "# Prediksi untuk:\n",
    "# Muda, pendapatan menengah, masih mahasiswa, rating kredit cukup\n",
    "# 1,0,1,0\n",
    "#\n",
    "prediksi = model.predict([[1,0,1,0]])\n",
    "print(\"Hasil prediksi: \", prediksi)"
   ]
  },
  {
   "cell_type": "markdown",
   "id": "44931d84",
   "metadata": {},
   "source": [
    "## Simpulan\n",
    "\n",
    "Dari hasil di atas - [1] - kita mengetahui bahwa konsumen target masuk ke kelompok 1. Jika dilihat pada LabelEncode di atas, maka arti **1** adalah **BELI**"
   ]
  },
  {
   "cell_type": "code",
   "execution_count": null,
   "id": "7dca3c1b",
   "metadata": {},
   "outputs": [],
   "source": []
  }
 ],
 "metadata": {
  "kernelspec": {
   "display_name": "Python 3",
   "language": "python",
   "name": "python3"
  },
  "language_info": {
   "codemirror_mode": {
    "name": "ipython",
    "version": 3
   },
   "file_extension": ".py",
   "mimetype": "text/x-python",
   "name": "python",
   "nbconvert_exporter": "python",
   "pygments_lexer": "ipython3",
   "version": "3.9.4"
  }
 },
 "nbformat": 4,
 "nbformat_minor": 5
}
